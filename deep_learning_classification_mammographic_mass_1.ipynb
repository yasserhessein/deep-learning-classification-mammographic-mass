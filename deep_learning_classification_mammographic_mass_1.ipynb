{
  "nbformat": 4,
  "nbformat_minor": 0,
  "metadata": {
    "colab": {
      "name": "deep-learning-classification-mammographic-mass_1",
      "provenance": [],
      "collapsed_sections": []
    },
    "kernelspec": {
      "name": "python3",
      "display_name": "Python 3"
    }
  },
  "cells": [
    {
      "cell_type": "markdown",
      "metadata": {
        "id": "WEGhmL2DNWDd"
      },
      "source": [
        "Dataset & Description\n",
        "\n",
        "https://archive.ics.uci.edu/ml/datasets/Mammographic+Mass"
      ]
    },
    {
      "cell_type": "markdown",
      "metadata": {
        "id": "1D0MV-DYPd8s"
      },
      "source": [
        "Data Set Information:\n",
        "\n",
        "Mammography is the most effective method for breast cancer screening\n",
        "available today. However, the low positive predictive value of breast\n",
        "biopsy resulting from mammogram interpretation leads to approximately\n",
        "70% unnecessary biopsies with benign outcomes. To reduce the high\n",
        "number of unnecessary breast biopsies, several computer-aided diagnosis\n",
        "(CAD) systems have been proposed in the last years.These systems\n",
        "help physicians in their decision to perform a breast biopsy on a suspicious\n",
        "lesion seen in a mammogram or to perform a short term follow-up\n",
        "examination instead.\n",
        "This data set can be used to predict the severity (benign or malignant)\n",
        "of a mammographic mass lesion from BI-RADS attributes and the patient's age.\n",
        "It contains a BI-RADS assessment, the patient's age and three BI-RADS attributes\n",
        "together with the ground truth (the severity field) for 516 benign and\n",
        "445 malignant masses that have been identified on full field digital mammograms\n",
        "collected at the Institute of Radiology of the\n",
        "University Erlangen-Nuremberg between 2003 and 2006.\n",
        "Each instance has an associated BI-RADS assessment ranging from 1 (definitely benign)\n",
        "to 5 (highly suggestive of malignancy) assigned in a double-review process by\n",
        "physicians. Assuming that all cases with BI-RADS assessments greater or equal\n",
        "a given value (varying from 1 to 5), are malignant and the other cases benign,\n",
        "sensitivities and associated specificities can be calculated. These can be an\n",
        "indication of how well a CAD system performs compared to the radiologists.\n",
        "\n",
        "Class Distribution: benign: 516; malignant: 445"
      ]
    },
    {
      "cell_type": "code",
      "metadata": {
        "id": "U3RwMHpLricr"
      },
      "source": [
        "import numpy as np\n",
        "import pandas as pd\n",
        "import matplotlib.pyplot as plt\n",
        "import seaborn as sns\n",
        "\n",
        "sns.set(rc={'figure.figsize': [7, 7]}, font_scale=1.2)"
      ],
      "execution_count": 107,
      "outputs": []
    },
    {
      "cell_type": "code",
      "metadata": {
        "colab": {
          "base_uri": "https://localhost:8080/",
          "height": 407
        },
        "id": "dzuftjfjrr5j",
        "outputId": "bbaffafe-ea37-4f52-b128-c4d23596c7b7"
      },
      "source": [
        "df = pd.read_csv('/content/Cleaned_data.csv')\n",
        "df"
      ],
      "execution_count": 108,
      "outputs": [
        {
          "output_type": "execute_result",
          "data": {
            "text/html": [
              "<div>\n",
              "<style scoped>\n",
              "    .dataframe tbody tr th:only-of-type {\n",
              "        vertical-align: middle;\n",
              "    }\n",
              "\n",
              "    .dataframe tbody tr th {\n",
              "        vertical-align: top;\n",
              "    }\n",
              "\n",
              "    .dataframe thead th {\n",
              "        text-align: right;\n",
              "    }\n",
              "</style>\n",
              "<table border=\"1\" class=\"dataframe\">\n",
              "  <thead>\n",
              "    <tr style=\"text-align: right;\">\n",
              "      <th></th>\n",
              "      <th>BI-RADS</th>\n",
              "      <th>Age</th>\n",
              "      <th>Shape</th>\n",
              "      <th>Margin</th>\n",
              "      <th>Density</th>\n",
              "      <th>Severity</th>\n",
              "    </tr>\n",
              "  </thead>\n",
              "  <tbody>\n",
              "    <tr>\n",
              "      <th>0</th>\n",
              "      <td>5</td>\n",
              "      <td>67</td>\n",
              "      <td>3</td>\n",
              "      <td>5</td>\n",
              "      <td>3</td>\n",
              "      <td>1</td>\n",
              "    </tr>\n",
              "    <tr>\n",
              "      <th>1</th>\n",
              "      <td>5</td>\n",
              "      <td>58</td>\n",
              "      <td>4</td>\n",
              "      <td>5</td>\n",
              "      <td>3</td>\n",
              "      <td>1</td>\n",
              "    </tr>\n",
              "    <tr>\n",
              "      <th>2</th>\n",
              "      <td>4</td>\n",
              "      <td>28</td>\n",
              "      <td>1</td>\n",
              "      <td>1</td>\n",
              "      <td>3</td>\n",
              "      <td>0</td>\n",
              "    </tr>\n",
              "    <tr>\n",
              "      <th>3</th>\n",
              "      <td>5</td>\n",
              "      <td>57</td>\n",
              "      <td>1</td>\n",
              "      <td>5</td>\n",
              "      <td>3</td>\n",
              "      <td>1</td>\n",
              "    </tr>\n",
              "    <tr>\n",
              "      <th>4</th>\n",
              "      <td>5</td>\n",
              "      <td>76</td>\n",
              "      <td>1</td>\n",
              "      <td>4</td>\n",
              "      <td>3</td>\n",
              "      <td>1</td>\n",
              "    </tr>\n",
              "    <tr>\n",
              "      <th>...</th>\n",
              "      <td>...</td>\n",
              "      <td>...</td>\n",
              "      <td>...</td>\n",
              "      <td>...</td>\n",
              "      <td>...</td>\n",
              "      <td>...</td>\n",
              "    </tr>\n",
              "    <tr>\n",
              "      <th>825</th>\n",
              "      <td>4</td>\n",
              "      <td>47</td>\n",
              "      <td>2</td>\n",
              "      <td>1</td>\n",
              "      <td>3</td>\n",
              "      <td>0</td>\n",
              "    </tr>\n",
              "    <tr>\n",
              "      <th>826</th>\n",
              "      <td>4</td>\n",
              "      <td>56</td>\n",
              "      <td>4</td>\n",
              "      <td>5</td>\n",
              "      <td>3</td>\n",
              "      <td>1</td>\n",
              "    </tr>\n",
              "    <tr>\n",
              "      <th>827</th>\n",
              "      <td>4</td>\n",
              "      <td>64</td>\n",
              "      <td>4</td>\n",
              "      <td>5</td>\n",
              "      <td>3</td>\n",
              "      <td>0</td>\n",
              "    </tr>\n",
              "    <tr>\n",
              "      <th>828</th>\n",
              "      <td>5</td>\n",
              "      <td>66</td>\n",
              "      <td>4</td>\n",
              "      <td>5</td>\n",
              "      <td>3</td>\n",
              "      <td>1</td>\n",
              "    </tr>\n",
              "    <tr>\n",
              "      <th>829</th>\n",
              "      <td>4</td>\n",
              "      <td>62</td>\n",
              "      <td>3</td>\n",
              "      <td>3</td>\n",
              "      <td>3</td>\n",
              "      <td>0</td>\n",
              "    </tr>\n",
              "  </tbody>\n",
              "</table>\n",
              "<p>830 rows × 6 columns</p>\n",
              "</div>"
            ],
            "text/plain": [
              "     BI-RADS  Age  Shape  Margin  Density  Severity\n",
              "0          5   67      3       5        3         1\n",
              "1          5   58      4       5        3         1\n",
              "2          4   28      1       1        3         0\n",
              "3          5   57      1       5        3         1\n",
              "4          5   76      1       4        3         1\n",
              "..       ...  ...    ...     ...      ...       ...\n",
              "825        4   47      2       1        3         0\n",
              "826        4   56      4       5        3         1\n",
              "827        4   64      4       5        3         0\n",
              "828        5   66      4       5        3         1\n",
              "829        4   62      3       3        3         0\n",
              "\n",
              "[830 rows x 6 columns]"
            ]
          },
          "metadata": {
            "tags": []
          },
          "execution_count": 108
        }
      ]
    },
    {
      "cell_type": "code",
      "metadata": {
        "colab": {
          "base_uri": "https://localhost:8080/"
        },
        "id": "3ucgzjPirvvy",
        "outputId": "d3ef60f5-a642-4d08-ba4d-a22dac935390"
      },
      "source": [
        "df.info()"
      ],
      "execution_count": 109,
      "outputs": [
        {
          "output_type": "stream",
          "text": [
            "<class 'pandas.core.frame.DataFrame'>\n",
            "RangeIndex: 830 entries, 0 to 829\n",
            "Data columns (total 6 columns):\n",
            " #   Column    Non-Null Count  Dtype\n",
            "---  ------    --------------  -----\n",
            " 0   BI-RADS   830 non-null    int64\n",
            " 1   Age       830 non-null    int64\n",
            " 2   Shape     830 non-null    int64\n",
            " 3   Margin    830 non-null    int64\n",
            " 4   Density   830 non-null    int64\n",
            " 5   Severity  830 non-null    int64\n",
            "dtypes: int64(6)\n",
            "memory usage: 39.0 KB\n"
          ],
          "name": "stdout"
        }
      ]
    },
    {
      "cell_type": "code",
      "metadata": {
        "colab": {
          "base_uri": "https://localhost:8080/",
          "height": 288
        },
        "id": "0Q49JPOTrzrt",
        "outputId": "3aa8a188-f0e2-4433-bc9b-2d89ae9a950b"
      },
      "source": [
        "df.describe()"
      ],
      "execution_count": 110,
      "outputs": [
        {
          "output_type": "execute_result",
          "data": {
            "text/html": [
              "<div>\n",
              "<style scoped>\n",
              "    .dataframe tbody tr th:only-of-type {\n",
              "        vertical-align: middle;\n",
              "    }\n",
              "\n",
              "    .dataframe tbody tr th {\n",
              "        vertical-align: top;\n",
              "    }\n",
              "\n",
              "    .dataframe thead th {\n",
              "        text-align: right;\n",
              "    }\n",
              "</style>\n",
              "<table border=\"1\" class=\"dataframe\">\n",
              "  <thead>\n",
              "    <tr style=\"text-align: right;\">\n",
              "      <th></th>\n",
              "      <th>BI-RADS</th>\n",
              "      <th>Age</th>\n",
              "      <th>Shape</th>\n",
              "      <th>Margin</th>\n",
              "      <th>Density</th>\n",
              "      <th>Severity</th>\n",
              "    </tr>\n",
              "  </thead>\n",
              "  <tbody>\n",
              "    <tr>\n",
              "      <th>count</th>\n",
              "      <td>830.000000</td>\n",
              "      <td>830.000000</td>\n",
              "      <td>830.000000</td>\n",
              "      <td>830.000000</td>\n",
              "      <td>830.000000</td>\n",
              "      <td>830.000000</td>\n",
              "    </tr>\n",
              "    <tr>\n",
              "      <th>mean</th>\n",
              "      <td>4.393976</td>\n",
              "      <td>55.781928</td>\n",
              "      <td>2.781928</td>\n",
              "      <td>2.813253</td>\n",
              "      <td>2.915663</td>\n",
              "      <td>0.485542</td>\n",
              "    </tr>\n",
              "    <tr>\n",
              "      <th>std</th>\n",
              "      <td>1.888371</td>\n",
              "      <td>14.671782</td>\n",
              "      <td>1.242361</td>\n",
              "      <td>1.567175</td>\n",
              "      <td>0.350936</td>\n",
              "      <td>0.500092</td>\n",
              "    </tr>\n",
              "    <tr>\n",
              "      <th>min</th>\n",
              "      <td>0.000000</td>\n",
              "      <td>18.000000</td>\n",
              "      <td>1.000000</td>\n",
              "      <td>1.000000</td>\n",
              "      <td>1.000000</td>\n",
              "      <td>0.000000</td>\n",
              "    </tr>\n",
              "    <tr>\n",
              "      <th>25%</th>\n",
              "      <td>4.000000</td>\n",
              "      <td>46.000000</td>\n",
              "      <td>2.000000</td>\n",
              "      <td>1.000000</td>\n",
              "      <td>3.000000</td>\n",
              "      <td>0.000000</td>\n",
              "    </tr>\n",
              "    <tr>\n",
              "      <th>50%</th>\n",
              "      <td>4.000000</td>\n",
              "      <td>57.000000</td>\n",
              "      <td>3.000000</td>\n",
              "      <td>3.000000</td>\n",
              "      <td>3.000000</td>\n",
              "      <td>0.000000</td>\n",
              "    </tr>\n",
              "    <tr>\n",
              "      <th>75%</th>\n",
              "      <td>5.000000</td>\n",
              "      <td>66.000000</td>\n",
              "      <td>4.000000</td>\n",
              "      <td>4.000000</td>\n",
              "      <td>3.000000</td>\n",
              "      <td>1.000000</td>\n",
              "    </tr>\n",
              "    <tr>\n",
              "      <th>max</th>\n",
              "      <td>55.000000</td>\n",
              "      <td>96.000000</td>\n",
              "      <td>4.000000</td>\n",
              "      <td>5.000000</td>\n",
              "      <td>4.000000</td>\n",
              "      <td>1.000000</td>\n",
              "    </tr>\n",
              "  </tbody>\n",
              "</table>\n",
              "</div>"
            ],
            "text/plain": [
              "          BI-RADS         Age       Shape      Margin     Density    Severity\n",
              "count  830.000000  830.000000  830.000000  830.000000  830.000000  830.000000\n",
              "mean     4.393976   55.781928    2.781928    2.813253    2.915663    0.485542\n",
              "std      1.888371   14.671782    1.242361    1.567175    0.350936    0.500092\n",
              "min      0.000000   18.000000    1.000000    1.000000    1.000000    0.000000\n",
              "25%      4.000000   46.000000    2.000000    1.000000    3.000000    0.000000\n",
              "50%      4.000000   57.000000    3.000000    3.000000    3.000000    0.000000\n",
              "75%      5.000000   66.000000    4.000000    4.000000    3.000000    1.000000\n",
              "max     55.000000   96.000000    4.000000    5.000000    4.000000    1.000000"
            ]
          },
          "metadata": {
            "tags": []
          },
          "execution_count": 110
        }
      ]
    },
    {
      "cell_type": "code",
      "metadata": {
        "colab": {
          "base_uri": "https://localhost:8080/",
          "height": 288
        },
        "id": "zAtvTgBZr1_F",
        "outputId": "0b7e62ce-259d-4d5a-a036-2d2910634d88"
      },
      "source": [
        "df.describe()"
      ],
      "execution_count": 111,
      "outputs": [
        {
          "output_type": "execute_result",
          "data": {
            "text/html": [
              "<div>\n",
              "<style scoped>\n",
              "    .dataframe tbody tr th:only-of-type {\n",
              "        vertical-align: middle;\n",
              "    }\n",
              "\n",
              "    .dataframe tbody tr th {\n",
              "        vertical-align: top;\n",
              "    }\n",
              "\n",
              "    .dataframe thead th {\n",
              "        text-align: right;\n",
              "    }\n",
              "</style>\n",
              "<table border=\"1\" class=\"dataframe\">\n",
              "  <thead>\n",
              "    <tr style=\"text-align: right;\">\n",
              "      <th></th>\n",
              "      <th>BI-RADS</th>\n",
              "      <th>Age</th>\n",
              "      <th>Shape</th>\n",
              "      <th>Margin</th>\n",
              "      <th>Density</th>\n",
              "      <th>Severity</th>\n",
              "    </tr>\n",
              "  </thead>\n",
              "  <tbody>\n",
              "    <tr>\n",
              "      <th>count</th>\n",
              "      <td>830.000000</td>\n",
              "      <td>830.000000</td>\n",
              "      <td>830.000000</td>\n",
              "      <td>830.000000</td>\n",
              "      <td>830.000000</td>\n",
              "      <td>830.000000</td>\n",
              "    </tr>\n",
              "    <tr>\n",
              "      <th>mean</th>\n",
              "      <td>4.393976</td>\n",
              "      <td>55.781928</td>\n",
              "      <td>2.781928</td>\n",
              "      <td>2.813253</td>\n",
              "      <td>2.915663</td>\n",
              "      <td>0.485542</td>\n",
              "    </tr>\n",
              "    <tr>\n",
              "      <th>std</th>\n",
              "      <td>1.888371</td>\n",
              "      <td>14.671782</td>\n",
              "      <td>1.242361</td>\n",
              "      <td>1.567175</td>\n",
              "      <td>0.350936</td>\n",
              "      <td>0.500092</td>\n",
              "    </tr>\n",
              "    <tr>\n",
              "      <th>min</th>\n",
              "      <td>0.000000</td>\n",
              "      <td>18.000000</td>\n",
              "      <td>1.000000</td>\n",
              "      <td>1.000000</td>\n",
              "      <td>1.000000</td>\n",
              "      <td>0.000000</td>\n",
              "    </tr>\n",
              "    <tr>\n",
              "      <th>25%</th>\n",
              "      <td>4.000000</td>\n",
              "      <td>46.000000</td>\n",
              "      <td>2.000000</td>\n",
              "      <td>1.000000</td>\n",
              "      <td>3.000000</td>\n",
              "      <td>0.000000</td>\n",
              "    </tr>\n",
              "    <tr>\n",
              "      <th>50%</th>\n",
              "      <td>4.000000</td>\n",
              "      <td>57.000000</td>\n",
              "      <td>3.000000</td>\n",
              "      <td>3.000000</td>\n",
              "      <td>3.000000</td>\n",
              "      <td>0.000000</td>\n",
              "    </tr>\n",
              "    <tr>\n",
              "      <th>75%</th>\n",
              "      <td>5.000000</td>\n",
              "      <td>66.000000</td>\n",
              "      <td>4.000000</td>\n",
              "      <td>4.000000</td>\n",
              "      <td>3.000000</td>\n",
              "      <td>1.000000</td>\n",
              "    </tr>\n",
              "    <tr>\n",
              "      <th>max</th>\n",
              "      <td>55.000000</td>\n",
              "      <td>96.000000</td>\n",
              "      <td>4.000000</td>\n",
              "      <td>5.000000</td>\n",
              "      <td>4.000000</td>\n",
              "      <td>1.000000</td>\n",
              "    </tr>\n",
              "  </tbody>\n",
              "</table>\n",
              "</div>"
            ],
            "text/plain": [
              "          BI-RADS         Age       Shape      Margin     Density    Severity\n",
              "count  830.000000  830.000000  830.000000  830.000000  830.000000  830.000000\n",
              "mean     4.393976   55.781928    2.781928    2.813253    2.915663    0.485542\n",
              "std      1.888371   14.671782    1.242361    1.567175    0.350936    0.500092\n",
              "min      0.000000   18.000000    1.000000    1.000000    1.000000    0.000000\n",
              "25%      4.000000   46.000000    2.000000    1.000000    3.000000    0.000000\n",
              "50%      4.000000   57.000000    3.000000    3.000000    3.000000    0.000000\n",
              "75%      5.000000   66.000000    4.000000    4.000000    3.000000    1.000000\n",
              "max     55.000000   96.000000    4.000000    5.000000    4.000000    1.000000"
            ]
          },
          "metadata": {
            "tags": []
          },
          "execution_count": 111
        }
      ]
    },
    {
      "cell_type": "code",
      "metadata": {
        "colab": {
          "base_uri": "https://localhost:8080/",
          "height": 407
        },
        "id": "oRte1xGGsElu",
        "outputId": "1db24fe5-779e-492a-d848-2b31f54021db"
      },
      "source": [
        "df"
      ],
      "execution_count": 112,
      "outputs": [
        {
          "output_type": "execute_result",
          "data": {
            "text/html": [
              "<div>\n",
              "<style scoped>\n",
              "    .dataframe tbody tr th:only-of-type {\n",
              "        vertical-align: middle;\n",
              "    }\n",
              "\n",
              "    .dataframe tbody tr th {\n",
              "        vertical-align: top;\n",
              "    }\n",
              "\n",
              "    .dataframe thead th {\n",
              "        text-align: right;\n",
              "    }\n",
              "</style>\n",
              "<table border=\"1\" class=\"dataframe\">\n",
              "  <thead>\n",
              "    <tr style=\"text-align: right;\">\n",
              "      <th></th>\n",
              "      <th>BI-RADS</th>\n",
              "      <th>Age</th>\n",
              "      <th>Shape</th>\n",
              "      <th>Margin</th>\n",
              "      <th>Density</th>\n",
              "      <th>Severity</th>\n",
              "    </tr>\n",
              "  </thead>\n",
              "  <tbody>\n",
              "    <tr>\n",
              "      <th>0</th>\n",
              "      <td>5</td>\n",
              "      <td>67</td>\n",
              "      <td>3</td>\n",
              "      <td>5</td>\n",
              "      <td>3</td>\n",
              "      <td>1</td>\n",
              "    </tr>\n",
              "    <tr>\n",
              "      <th>1</th>\n",
              "      <td>5</td>\n",
              "      <td>58</td>\n",
              "      <td>4</td>\n",
              "      <td>5</td>\n",
              "      <td>3</td>\n",
              "      <td>1</td>\n",
              "    </tr>\n",
              "    <tr>\n",
              "      <th>2</th>\n",
              "      <td>4</td>\n",
              "      <td>28</td>\n",
              "      <td>1</td>\n",
              "      <td>1</td>\n",
              "      <td>3</td>\n",
              "      <td>0</td>\n",
              "    </tr>\n",
              "    <tr>\n",
              "      <th>3</th>\n",
              "      <td>5</td>\n",
              "      <td>57</td>\n",
              "      <td>1</td>\n",
              "      <td>5</td>\n",
              "      <td>3</td>\n",
              "      <td>1</td>\n",
              "    </tr>\n",
              "    <tr>\n",
              "      <th>4</th>\n",
              "      <td>5</td>\n",
              "      <td>76</td>\n",
              "      <td>1</td>\n",
              "      <td>4</td>\n",
              "      <td>3</td>\n",
              "      <td>1</td>\n",
              "    </tr>\n",
              "    <tr>\n",
              "      <th>...</th>\n",
              "      <td>...</td>\n",
              "      <td>...</td>\n",
              "      <td>...</td>\n",
              "      <td>...</td>\n",
              "      <td>...</td>\n",
              "      <td>...</td>\n",
              "    </tr>\n",
              "    <tr>\n",
              "      <th>825</th>\n",
              "      <td>4</td>\n",
              "      <td>47</td>\n",
              "      <td>2</td>\n",
              "      <td>1</td>\n",
              "      <td>3</td>\n",
              "      <td>0</td>\n",
              "    </tr>\n",
              "    <tr>\n",
              "      <th>826</th>\n",
              "      <td>4</td>\n",
              "      <td>56</td>\n",
              "      <td>4</td>\n",
              "      <td>5</td>\n",
              "      <td>3</td>\n",
              "      <td>1</td>\n",
              "    </tr>\n",
              "    <tr>\n",
              "      <th>827</th>\n",
              "      <td>4</td>\n",
              "      <td>64</td>\n",
              "      <td>4</td>\n",
              "      <td>5</td>\n",
              "      <td>3</td>\n",
              "      <td>0</td>\n",
              "    </tr>\n",
              "    <tr>\n",
              "      <th>828</th>\n",
              "      <td>5</td>\n",
              "      <td>66</td>\n",
              "      <td>4</td>\n",
              "      <td>5</td>\n",
              "      <td>3</td>\n",
              "      <td>1</td>\n",
              "    </tr>\n",
              "    <tr>\n",
              "      <th>829</th>\n",
              "      <td>4</td>\n",
              "      <td>62</td>\n",
              "      <td>3</td>\n",
              "      <td>3</td>\n",
              "      <td>3</td>\n",
              "      <td>0</td>\n",
              "    </tr>\n",
              "  </tbody>\n",
              "</table>\n",
              "<p>830 rows × 6 columns</p>\n",
              "</div>"
            ],
            "text/plain": [
              "     BI-RADS  Age  Shape  Margin  Density  Severity\n",
              "0          5   67      3       5        3         1\n",
              "1          5   58      4       5        3         1\n",
              "2          4   28      1       1        3         0\n",
              "3          5   57      1       5        3         1\n",
              "4          5   76      1       4        3         1\n",
              "..       ...  ...    ...     ...      ...       ...\n",
              "825        4   47      2       1        3         0\n",
              "826        4   56      4       5        3         1\n",
              "827        4   64      4       5        3         0\n",
              "828        5   66      4       5        3         1\n",
              "829        4   62      3       3        3         0\n",
              "\n",
              "[830 rows x 6 columns]"
            ]
          },
          "metadata": {
            "tags": []
          },
          "execution_count": 112
        }
      ]
    },
    {
      "cell_type": "code",
      "metadata": {
        "colab": {
          "base_uri": "https://localhost:8080/",
          "height": 526
        },
        "id": "KcMZ6h1Er90t",
        "outputId": "7f6179ad-1d7a-47b0-e367-8f033616fd20"
      },
      "source": [
        "sns.countplot(df['Severity'],label=\"Count\")"
      ],
      "execution_count": 113,
      "outputs": [
        {
          "output_type": "stream",
          "text": [
            "/usr/local/lib/python3.6/dist-packages/seaborn/_decorators.py:43: FutureWarning: Pass the following variable as a keyword arg: x. From version 0.12, the only valid positional argument will be `data`, and passing other arguments without an explicit keyword will result in an error or misinterpretation.\n",
            "  FutureWarning\n"
          ],
          "name": "stderr"
        },
        {
          "output_type": "execute_result",
          "data": {
            "text/plain": [
              "<matplotlib.axes._subplots.AxesSubplot at 0x7fd224a30860>"
            ]
          },
          "metadata": {
            "tags": []
          },
          "execution_count": 113
        },
        {
          "output_type": "display_data",
          "data": {
            "image/png": "[encoded data removed]",
            "text/plain": [
              "<Figure size 504x504 with 1 Axes>"
            ]
          },
          "metadata": {
            "tags": []
          }
        }
      ]
    },
    {
      "cell_type": "code",
      "metadata": {
        "colab": {
          "base_uri": "https://localhost:8080/",
          "height": 620
        },
        "id": "mC9Cb6yVsAl5",
        "outputId": "62af7bee-4e5c-46fd-a304-ad6bc0006f59"
      },
      "source": [
        "plt.figure(figsize=(20,10))  #This is used to change the size of the figure/ heatmap\n",
        "sns.heatmap(df.corr(), annot=True, fmt='.0%')"
      ],
      "execution_count": 114,
      "outputs": [
        {
          "output_type": "execute_result",
          "data": {
            "text/plain": [
              "<matplotlib.axes._subplots.AxesSubplot at 0x7fd224928b70>"
            ]
          },
          "metadata": {
            "tags": []
          },
          "execution_count": 114
        },
        {
          "output_type": "display_data",
          "data": {
            "image/png": "[encoded data removed]",
            "text/plain": [
              "<Figure size 1440x720 with 2 Axes>"
            ]
          },
          "metadata": {
            "tags": []
          }
        }
      ]
    },
    {
      "cell_type": "code",
      "metadata": {
        "id": "3PoezWXMtHuA"
      },
      "source": [
        "x = df[['BI-RADS', 'Age', 'Shape', 'Margin', 'Density']]\n",
        "y = df['Severity']"
      ],
      "execution_count": 115,
      "outputs": []
    },
    {
      "cell_type": "code",
      "metadata": {
        "colab": {
          "base_uri": "https://localhost:8080/",
          "height": 407
        },
        "id": "gKc304HLtTAP",
        "outputId": "8f2dce30-a12d-4cf7-f875-924a5cd53a7d"
      },
      "source": [
        "x\n"
      ],
      "execution_count": 116,
      "outputs": [
        {
          "output_type": "execute_result",
          "data": {
            "text/html": [
              "<div>\n",
              "<style scoped>\n",
              "    .dataframe tbody tr th:only-of-type {\n",
              "        vertical-align: middle;\n",
              "    }\n",
              "\n",
              "    .dataframe tbody tr th {\n",
              "        vertical-align: top;\n",
              "    }\n",
              "\n",
              "    .dataframe thead th {\n",
              "        text-align: right;\n",
              "    }\n",
              "</style>\n",
              "<table border=\"1\" class=\"dataframe\">\n",
              "  <thead>\n",
              "    <tr style=\"text-align: right;\">\n",
              "      <th></th>\n",
              "      <th>BI-RADS</th>\n",
              "      <th>Age</th>\n",
              "      <th>Shape</th>\n",
              "      <th>Margin</th>\n",
              "      <th>Density</th>\n",
              "    </tr>\n",
              "  </thead>\n",
              "  <tbody>\n",
              "    <tr>\n",
              "      <th>0</th>\n",
              "      <td>5</td>\n",
              "      <td>67</td>\n",
              "      <td>3</td>\n",
              "      <td>5</td>\n",
              "      <td>3</td>\n",
              "    </tr>\n",
              "    <tr>\n",
              "      <th>1</th>\n",
              "      <td>5</td>\n",
              "      <td>58</td>\n",
              "      <td>4</td>\n",
              "      <td>5</td>\n",
              "      <td>3</td>\n",
              "    </tr>\n",
              "    <tr>\n",
              "      <th>2</th>\n",
              "      <td>4</td>\n",
              "      <td>28</td>\n",
              "      <td>1</td>\n",
              "      <td>1</td>\n",
              "      <td>3</td>\n",
              "    </tr>\n",
              "    <tr>\n",
              "      <th>3</th>\n",
              "      <td>5</td>\n",
              "      <td>57</td>\n",
              "      <td>1</td>\n",
              "      <td>5</td>\n",
              "      <td>3</td>\n",
              "    </tr>\n",
              "    <tr>\n",
              "      <th>4</th>\n",
              "      <td>5</td>\n",
              "      <td>76</td>\n",
              "      <td>1</td>\n",
              "      <td>4</td>\n",
              "      <td>3</td>\n",
              "    </tr>\n",
              "    <tr>\n",
              "      <th>...</th>\n",
              "      <td>...</td>\n",
              "      <td>...</td>\n",
              "      <td>...</td>\n",
              "      <td>...</td>\n",
              "      <td>...</td>\n",
              "    </tr>\n",
              "    <tr>\n",
              "      <th>825</th>\n",
              "      <td>4</td>\n",
              "      <td>47</td>\n",
              "      <td>2</td>\n",
              "      <td>1</td>\n",
              "      <td>3</td>\n",
              "    </tr>\n",
              "    <tr>\n",
              "      <th>826</th>\n",
              "      <td>4</td>\n",
              "      <td>56</td>\n",
              "      <td>4</td>\n",
              "      <td>5</td>\n",
              "      <td>3</td>\n",
              "    </tr>\n",
              "    <tr>\n",
              "      <th>827</th>\n",
              "      <td>4</td>\n",
              "      <td>64</td>\n",
              "      <td>4</td>\n",
              "      <td>5</td>\n",
              "      <td>3</td>\n",
              "    </tr>\n",
              "    <tr>\n",
              "      <th>828</th>\n",
              "      <td>5</td>\n",
              "      <td>66</td>\n",
              "      <td>4</td>\n",
              "      <td>5</td>\n",
              "      <td>3</td>\n",
              "    </tr>\n",
              "    <tr>\n",
              "      <th>829</th>\n",
              "      <td>4</td>\n",
              "      <td>62</td>\n",
              "      <td>3</td>\n",
              "      <td>3</td>\n",
              "      <td>3</td>\n",
              "    </tr>\n",
              "  </tbody>\n",
              "</table>\n",
              "<p>830 rows × 5 columns</p>\n",
              "</div>"
            ],
            "text/plain": [
              "     BI-RADS  Age  Shape  Margin  Density\n",
              "0          5   67      3       5        3\n",
              "1          5   58      4       5        3\n",
              "2          4   28      1       1        3\n",
              "3          5   57      1       5        3\n",
              "4          5   76      1       4        3\n",
              "..       ...  ...    ...     ...      ...\n",
              "825        4   47      2       1        3\n",
              "826        4   56      4       5        3\n",
              "827        4   64      4       5        3\n",
              "828        5   66      4       5        3\n",
              "829        4   62      3       3        3\n",
              "\n",
              "[830 rows x 5 columns]"
            ]
          },
          "metadata": {
            "tags": []
          },
          "execution_count": 116
        }
      ]
    },
    {
      "cell_type": "code",
      "metadata": {
        "colab": {
          "base_uri": "https://localhost:8080/"
        },
        "id": "PdyCmAfatidX",
        "outputId": "7d2bfa40-166e-483e-be32-df8b468cf3d5"
      },
      "source": [
        "y"
      ],
      "execution_count": 117,
      "outputs": [
        {
          "output_type": "execute_result",
          "data": {
            "text/plain": [
              "0      1\n",
              "1      1\n",
              "2      0\n",
              "3      1\n",
              "4      1\n",
              "      ..\n",
              "825    0\n",
              "826    1\n",
              "827    0\n",
              "828    1\n",
              "829    0\n",
              "Name: Severity, Length: 830, dtype: int64"
            ]
          },
          "metadata": {
            "tags": []
          },
          "execution_count": 117
        }
      ]
    },
    {
      "cell_type": "code",
      "metadata": {
        "colab": {
          "base_uri": "https://localhost:8080/"
        },
        "id": "blXcHJVPtjjs",
        "outputId": "8297943f-587f-4f0b-8de6-95c1f86c1cf1"
      },
      "source": [
        "x.shape"
      ],
      "execution_count": 118,
      "outputs": [
        {
          "output_type": "execute_result",
          "data": {
            "text/plain": [
              "(830, 5)"
            ]
          },
          "metadata": {
            "tags": []
          },
          "execution_count": 118
        }
      ]
    },
    {
      "cell_type": "code",
      "metadata": {
        "colab": {
          "base_uri": "https://localhost:8080/"
        },
        "id": "RZYGglmmtnmz",
        "outputId": "28f1e06c-f8ca-47e6-97f9-52731ad610f6"
      },
      "source": [
        "y.shape"
      ],
      "execution_count": 119,
      "outputs": [
        {
          "output_type": "execute_result",
          "data": {
            "text/plain": [
              "(830,)"
            ]
          },
          "metadata": {
            "tags": []
          },
          "execution_count": 119
        }
      ]
    },
    {
      "cell_type": "code",
      "metadata": {
        "id": "XacPmiUTtqBS"
      },
      "source": [
        "from sklearn.model_selection import train_test_split"
      ],
      "execution_count": 120,
      "outputs": []
    },
    {
      "cell_type": "code",
      "metadata": {
        "id": "RE7SgIIettq1"
      },
      "source": [
        "x_train, x_test, y_train, y_test = train_test_split(x, y, test_size = 0.1, random_state=42)"
      ],
      "execution_count": 121,
      "outputs": []
    },
    {
      "cell_type": "code",
      "metadata": {
        "colab": {
          "base_uri": "https://localhost:8080/"
        },
        "id": "MSZHgILXtyuy",
        "outputId": "e83ccf81-102e-4e8d-fe5a-63e892674ab6"
      },
      "source": [
        "x_train.shape"
      ],
      "execution_count": 122,
      "outputs": [
        {
          "output_type": "execute_result",
          "data": {
            "text/plain": [
              "(747, 5)"
            ]
          },
          "metadata": {
            "tags": []
          },
          "execution_count": 122
        }
      ]
    },
    {
      "cell_type": "code",
      "metadata": {
        "colab": {
          "base_uri": "https://localhost:8080/"
        },
        "id": "jv-cDyaBtwdK",
        "outputId": "daa101a6-ce7f-4415-c6d2-92c80cee8a5c"
      },
      "source": [
        "x_test.shape"
      ],
      "execution_count": 123,
      "outputs": [
        {
          "output_type": "execute_result",
          "data": {
            "text/plain": [
              "(83, 5)"
            ]
          },
          "metadata": {
            "tags": []
          },
          "execution_count": 123
        }
      ]
    },
    {
      "cell_type": "code",
      "metadata": {
        "id": "HckRp4YhMF0p"
      },
      "source": [
        "from sklearn.preprocessing import StandardScaler\n",
        "\n",
        "sc = StandardScaler()\n",
        "sc.fit(x_train)\n",
        "x_train = sc.transform(x_train)\n",
        "x_test = sc.transform(x_test)"
      ],
      "execution_count": 124,
      "outputs": []
    },
    {
      "cell_type": "code",
      "metadata": {
        "id": "dEPUCSost5Gx"
      },
      "source": [
        "from tensorflow.keras.models import Sequential\n",
        "from tensorflow.keras.layers import Dense, Dropout\n",
        "from tensorflow.keras.optimizers import Adam\n",
        "from tensorflow.keras.callbacks import ReduceLROnPlateau, ModelCheckpoint, EarlyStopping"
      ],
      "execution_count": 125,
      "outputs": []
    },
    {
      "cell_type": "code",
      "metadata": {
        "colab": {
          "base_uri": "https://localhost:8080/"
        },
        "id": "wxObRVaKt-ep",
        "outputId": "c3881f54-b244-43b8-c104-beccf2aae824"
      },
      "source": [
        "x.shape"
      ],
      "execution_count": 126,
      "outputs": [
        {
          "output_type": "execute_result",
          "data": {
            "text/plain": [
              "(830, 5)"
            ]
          },
          "metadata": {
            "tags": []
          },
          "execution_count": 126
        }
      ]
    },
    {
      "cell_type": "code",
      "metadata": {
        "colab": {
          "base_uri": "https://localhost:8080/"
        },
        "id": "s1erVKgOuBGq",
        "outputId": "591c42f1-6830-4e6c-de5b-796241f6544b"
      },
      "source": [
        "x.shape[1]"
      ],
      "execution_count": 127,
      "outputs": [
        {
          "output_type": "execute_result",
          "data": {
            "text/plain": [
              "5"
            ]
          },
          "metadata": {
            "tags": []
          },
          "execution_count": 127
        }
      ]
    },
    {
      "cell_type": "code",
      "metadata": {
        "id": "estPrHKFuDgV"
      },
      "source": [
        "model = Sequential()\n",
        "model.add(Dense(256, input_shape=[x.shape[1]], activation='relu'))\n",
        "model.add(Dropout(0.2))\n",
        "model.add(Dense(128, activation='relu'))\n",
        "model.add(Dropout(0.3))\n",
        "model.add(Dense(64, activation='relu'))\n",
        "model.add(Dropout(0.2))\n",
        "model.add(Dense(32, activation='relu'))\n",
        "model.add(Dropout(0.4))\n",
        "model.add(Dense(1, activation='sigmoid'))"
      ],
      "execution_count": 128,
      "outputs": []
    },
    {
      "cell_type": "code",
      "metadata": {
        "colab": {
          "base_uri": "https://localhost:8080/"
        },
        "id": "hhBR2NUFuRnE",
        "outputId": "947449e9-040c-48aa-f23e-db146fec30d2"
      },
      "source": [
        "model.summary()"
      ],
      "execution_count": 129,
      "outputs": [
        {
          "output_type": "stream",
          "text": [
            "Model: \"sequential_3\"\n",
            "_________________________________________________________________\n",
            "Layer (type)                 Output Shape              Param #   \n",
            "=================================================================\n",
            "dense_15 (Dense)             (None, 256)               1536      \n",
            "_________________________________________________________________\n",
            "dropout_12 (Dropout)         (None, 256)               0         \n",
            "_________________________________________________________________\n",
            "dense_16 (Dense)             (None, 128)               32896     \n",
            "_________________________________________________________________\n",
            "dropout_13 (Dropout)         (None, 128)               0         \n",
            "_________________________________________________________________\n",
            "dense_17 (Dense)             (None, 64)                8256      \n",
            "_________________________________________________________________\n",
            "dropout_14 (Dropout)         (None, 64)                0         \n",
            "_________________________________________________________________\n",
            "dense_18 (Dense)             (None, 32)                2080      \n",
            "_________________________________________________________________\n",
            "dropout_15 (Dropout)         (None, 32)                0         \n",
            "_________________________________________________________________\n",
            "dense_19 (Dense)             (None, 1)                 33        \n",
            "=================================================================\n",
            "Total params: 44,801\n",
            "Trainable params: 44,801\n",
            "Non-trainable params: 0\n",
            "_________________________________________________________________\n"
          ],
          "name": "stdout"
        }
      ]
    },
    {
      "cell_type": "code",
      "metadata": {
        "id": "0T6-0TueuSNi"
      },
      "source": [
        "model.compile(optimizer=Adam(), loss='binary_crossentropy', metrics=['accuracy'])"
      ],
      "execution_count": 130,
      "outputs": []
    },
    {
      "cell_type": "code",
      "metadata": {
        "id": "vq8tweKpuV_J"
      },
      "source": [
        "lrd = ReduceLROnPlateau(monitor = 'val_loss',\n",
        "                         patience = 200,\n",
        "                         verbose = 1,\n",
        "                         factor = 0.75,\n",
        "                         min_lr = 1e-10)\n",
        "\n",
        "mcp = ModelCheckpoint('model.h5')\n",
        "\n",
        "es = EarlyStopping(verbose=1, patience=60)"
      ],
      "execution_count": 131,
      "outputs": []
    },
    {
      "cell_type": "code",
      "metadata": {
        "colab": {
          "base_uri": "https://localhost:8080/"
        },
        "id": "qAta3_DBuYHj",
        "outputId": "087eb487-7dc5-4038-d801-399ee3b9033c"
      },
      "source": [
        "history = model.fit(x=x_train, y=y_train, epochs=500, callbacks=[lrd, mcp, es], batch_size=256, validation_split=0.1)"
      ],
      "execution_count": 132,
      "outputs": [
        {
          "output_type": "stream",
          "text": [
            "Epoch 1/500\n",
            "3/3 [==============================] - 0s 54ms/step - loss: 0.6776 - accuracy: 0.5923 - val_loss: 0.6354 - val_accuracy: 0.8133\n",
            "Epoch 2/500\n",
            "3/3 [==============================] - 0s 16ms/step - loss: 0.6260 - accuracy: 0.7247 - val_loss: 0.5836 - val_accuracy: 0.8000\n",
            "Epoch 3/500\n",
            "3/3 [==============================] - 0s 15ms/step - loss: 0.5772 - accuracy: 0.7679 - val_loss: 0.5367 - val_accuracy: 0.8000\n",
            "Epoch 4/500\n",
            "3/3 [==============================] - 0s 16ms/step - loss: 0.5349 - accuracy: 0.7946 - val_loss: 0.4972 - val_accuracy: 0.8000\n",
            "Epoch 5/500\n",
            "3/3 [==============================] - 0s 16ms/step - loss: 0.4978 - accuracy: 0.7887 - val_loss: 0.4686 - val_accuracy: 0.8000\n",
            "Epoch 6/500\n",
            "3/3 [==============================] - 0s 17ms/step - loss: 0.4788 - accuracy: 0.8110 - val_loss: 0.4545 - val_accuracy: 0.7867\n",
            "Epoch 7/500\n",
            "3/3 [==============================] - 0s 22ms/step - loss: 0.4808 - accuracy: 0.8065 - val_loss: 0.4498 - val_accuracy: 0.7867\n",
            "Epoch 8/500\n",
            "3/3 [==============================] - 0s 17ms/step - loss: 0.4846 - accuracy: 0.8036 - val_loss: 0.4469 - val_accuracy: 0.7867\n",
            "Epoch 9/500\n",
            "3/3 [==============================] - 0s 16ms/step - loss: 0.4669 - accuracy: 0.8155 - val_loss: 0.4414 - val_accuracy: 0.7867\n",
            "Epoch 10/500\n",
            "3/3 [==============================] - 0s 19ms/step - loss: 0.4692 - accuracy: 0.8259 - val_loss: 0.4334 - val_accuracy: 0.7867\n",
            "Epoch 11/500\n",
            "3/3 [==============================] - 0s 16ms/step - loss: 0.4377 - accuracy: 0.8199 - val_loss: 0.4266 - val_accuracy: 0.8000\n",
            "Epoch 12/500\n",
            "3/3 [==============================] - 0s 16ms/step - loss: 0.4375 - accuracy: 0.8185 - val_loss: 0.4229 - val_accuracy: 0.8000\n",
            "Epoch 13/500\n",
            "3/3 [==============================] - 0s 16ms/step - loss: 0.4477 - accuracy: 0.8170 - val_loss: 0.4194 - val_accuracy: 0.8000\n",
            "Epoch 14/500\n",
            "3/3 [==============================] - 0s 21ms/step - loss: 0.4429 - accuracy: 0.8274 - val_loss: 0.4160 - val_accuracy: 0.8000\n",
            "Epoch 15/500\n",
            "3/3 [==============================] - 0s 16ms/step - loss: 0.4513 - accuracy: 0.8051 - val_loss: 0.4135 - val_accuracy: 0.8133\n",
            "Epoch 16/500\n",
            "3/3 [==============================] - 0s 16ms/step - loss: 0.4389 - accuracy: 0.8185 - val_loss: 0.4106 - val_accuracy: 0.8133\n",
            "Epoch 17/500\n",
            "3/3 [==============================] - 0s 18ms/step - loss: 0.4393 - accuracy: 0.8289 - val_loss: 0.4069 - val_accuracy: 0.8133\n",
            "Epoch 18/500\n",
            "3/3 [==============================] - 0s 17ms/step - loss: 0.4393 - accuracy: 0.8289 - val_loss: 0.4028 - val_accuracy: 0.8133\n",
            "Epoch 19/500\n",
            "3/3 [==============================] - 0s 16ms/step - loss: 0.4254 - accuracy: 0.8244 - val_loss: 0.3977 - val_accuracy: 0.8133\n",
            "Epoch 20/500\n",
            "3/3 [==============================] - 0s 16ms/step - loss: 0.4290 - accuracy: 0.8259 - val_loss: 0.3919 - val_accuracy: 0.8133\n",
            "Epoch 21/500\n",
            "3/3 [==============================] - 0s 15ms/step - loss: 0.4304 - accuracy: 0.8259 - val_loss: 0.3875 - val_accuracy: 0.8133\n",
            "Epoch 22/500\n",
            "3/3 [==============================] - 0s 17ms/step - loss: 0.4215 - accuracy: 0.8140 - val_loss: 0.3840 - val_accuracy: 0.8133\n",
            "Epoch 23/500\n",
            "3/3 [==============================] - 0s 16ms/step - loss: 0.4167 - accuracy: 0.8244 - val_loss: 0.3807 - val_accuracy: 0.8267\n",
            "Epoch 24/500\n",
            "3/3 [==============================] - 0s 18ms/step - loss: 0.4050 - accuracy: 0.8304 - val_loss: 0.3774 - val_accuracy: 0.8267\n",
            "Epoch 25/500\n",
            "3/3 [==============================] - 0s 16ms/step - loss: 0.4220 - accuracy: 0.8199 - val_loss: 0.3727 - val_accuracy: 0.8267\n",
            "Epoch 26/500\n",
            "3/3 [==============================] - 0s 18ms/step - loss: 0.3965 - accuracy: 0.8229 - val_loss: 0.3677 - val_accuracy: 0.8267\n",
            "Epoch 27/500\n",
            "3/3 [==============================] - 0s 17ms/step - loss: 0.4117 - accuracy: 0.8259 - val_loss: 0.3635 - val_accuracy: 0.8267\n",
            "Epoch 28/500\n",
            "3/3 [==============================] - 0s 16ms/step - loss: 0.4168 - accuracy: 0.8318 - val_loss: 0.3611 - val_accuracy: 0.8267\n",
            "Epoch 29/500\n",
            "3/3 [==============================] - 0s 16ms/step - loss: 0.4002 - accuracy: 0.8363 - val_loss: 0.3591 - val_accuracy: 0.8267\n",
            "Epoch 30/500\n",
            "3/3 [==============================] - 0s 16ms/step - loss: 0.4069 - accuracy: 0.8289 - val_loss: 0.3598 - val_accuracy: 0.8267\n",
            "Epoch 31/500\n",
            "3/3 [==============================] - 0s 16ms/step - loss: 0.4061 - accuracy: 0.8274 - val_loss: 0.3586 - val_accuracy: 0.8267\n",
            "Epoch 32/500\n",
            "3/3 [==============================] - 0s 17ms/step - loss: 0.4121 - accuracy: 0.8289 - val_loss: 0.3599 - val_accuracy: 0.8267\n",
            "Epoch 33/500\n",
            "3/3 [==============================] - 0s 16ms/step - loss: 0.3871 - accuracy: 0.8318 - val_loss: 0.3572 - val_accuracy: 0.8267\n",
            "Epoch 34/500\n",
            "3/3 [==============================] - 0s 16ms/step - loss: 0.3917 - accuracy: 0.8333 - val_loss: 0.3544 - val_accuracy: 0.8267\n",
            "Epoch 35/500\n",
            "3/3 [==============================] - 0s 16ms/step - loss: 0.3765 - accuracy: 0.8274 - val_loss: 0.3529 - val_accuracy: 0.8400\n",
            "Epoch 36/500\n",
            "3/3 [==============================] - 0s 16ms/step - loss: 0.3912 - accuracy: 0.8467 - val_loss: 0.3507 - val_accuracy: 0.8533\n",
            "Epoch 37/500\n",
            "3/3 [==============================] - 0s 16ms/step - loss: 0.4188 - accuracy: 0.8318 - val_loss: 0.3488 - val_accuracy: 0.8533\n",
            "Epoch 38/500\n",
            "3/3 [==============================] - 0s 16ms/step - loss: 0.3896 - accuracy: 0.8259 - val_loss: 0.3480 - val_accuracy: 0.8667\n",
            "Epoch 39/500\n",
            "3/3 [==============================] - 0s 17ms/step - loss: 0.3947 - accuracy: 0.8482 - val_loss: 0.3507 - val_accuracy: 0.8400\n",
            "Epoch 40/500\n",
            "3/3 [==============================] - 0s 17ms/step - loss: 0.4010 - accuracy: 0.8289 - val_loss: 0.3526 - val_accuracy: 0.8400\n",
            "Epoch 41/500\n",
            "3/3 [==============================] - 0s 16ms/step - loss: 0.3904 - accuracy: 0.8408 - val_loss: 0.3540 - val_accuracy: 0.8400\n",
            "Epoch 42/500\n",
            "3/3 [==============================] - 0s 17ms/step - loss: 0.3873 - accuracy: 0.8378 - val_loss: 0.3531 - val_accuracy: 0.8400\n",
            "Epoch 43/500\n",
            "3/3 [==============================] - 0s 17ms/step - loss: 0.3867 - accuracy: 0.8348 - val_loss: 0.3502 - val_accuracy: 0.8400\n",
            "Epoch 44/500\n",
            "3/3 [==============================] - 0s 16ms/step - loss: 0.3635 - accuracy: 0.8423 - val_loss: 0.3480 - val_accuracy: 0.8400\n",
            "Epoch 45/500\n",
            "3/3 [==============================] - 0s 16ms/step - loss: 0.3808 - accuracy: 0.8423 - val_loss: 0.3458 - val_accuracy: 0.8533\n",
            "Epoch 46/500\n",
            "3/3 [==============================] - 0s 17ms/step - loss: 0.3792 - accuracy: 0.8467 - val_loss: 0.3460 - val_accuracy: 0.8533\n",
            "Epoch 47/500\n",
            "3/3 [==============================] - 0s 17ms/step - loss: 0.3929 - accuracy: 0.8467 - val_loss: 0.3472 - val_accuracy: 0.8533\n",
            "Epoch 48/500\n",
            "3/3 [==============================] - 0s 19ms/step - loss: 0.3899 - accuracy: 0.8423 - val_loss: 0.3474 - val_accuracy: 0.8400\n",
            "Epoch 49/500\n",
            "3/3 [==============================] - 0s 18ms/step - loss: 0.3908 - accuracy: 0.8438 - val_loss: 0.3475 - val_accuracy: 0.8533\n",
            "Epoch 50/500\n",
            "3/3 [==============================] - 0s 16ms/step - loss: 0.3768 - accuracy: 0.8512 - val_loss: 0.3488 - val_accuracy: 0.8533\n",
            "Epoch 51/500\n",
            "3/3 [==============================] - 0s 16ms/step - loss: 0.3774 - accuracy: 0.8438 - val_loss: 0.3475 - val_accuracy: 0.8533\n",
            "Epoch 52/500\n",
            "3/3 [==============================] - 0s 16ms/step - loss: 0.3788 - accuracy: 0.8616 - val_loss: 0.3471 - val_accuracy: 0.8533\n",
            "Epoch 53/500\n",
            "3/3 [==============================] - 0s 17ms/step - loss: 0.3918 - accuracy: 0.8423 - val_loss: 0.3470 - val_accuracy: 0.8533\n",
            "Epoch 54/500\n",
            "3/3 [==============================] - 0s 16ms/step - loss: 0.3596 - accuracy: 0.8452 - val_loss: 0.3473 - val_accuracy: 0.8400\n",
            "Epoch 55/500\n",
            "3/3 [==============================] - 0s 18ms/step - loss: 0.3827 - accuracy: 0.8438 - val_loss: 0.3462 - val_accuracy: 0.8400\n",
            "Epoch 56/500\n",
            "3/3 [==============================] - 0s 17ms/step - loss: 0.3885 - accuracy: 0.8482 - val_loss: 0.3475 - val_accuracy: 0.8533\n",
            "Epoch 57/500\n",
            "3/3 [==============================] - 0s 16ms/step - loss: 0.3738 - accuracy: 0.8482 - val_loss: 0.3492 - val_accuracy: 0.8400\n",
            "Epoch 58/500\n",
            "3/3 [==============================] - 0s 17ms/step - loss: 0.3732 - accuracy: 0.8467 - val_loss: 0.3487 - val_accuracy: 0.8533\n",
            "Epoch 59/500\n",
            "3/3 [==============================] - 0s 17ms/step - loss: 0.3872 - accuracy: 0.8527 - val_loss: 0.3480 - val_accuracy: 0.8133\n",
            "Epoch 60/500\n",
            "3/3 [==============================] - 0s 18ms/step - loss: 0.3700 - accuracy: 0.8571 - val_loss: 0.3461 - val_accuracy: 0.8400\n",
            "Epoch 61/500\n",
            "3/3 [==============================] - 0s 17ms/step - loss: 0.3771 - accuracy: 0.8452 - val_loss: 0.3447 - val_accuracy: 0.8400\n",
            "Epoch 62/500\n",
            "3/3 [==============================] - 0s 18ms/step - loss: 0.3836 - accuracy: 0.8512 - val_loss: 0.3443 - val_accuracy: 0.8267\n",
            "Epoch 63/500\n",
            "3/3 [==============================] - 0s 16ms/step - loss: 0.3739 - accuracy: 0.8586 - val_loss: 0.3426 - val_accuracy: 0.8400\n",
            "Epoch 64/500\n",
            "3/3 [==============================] - 0s 16ms/step - loss: 0.3798 - accuracy: 0.8512 - val_loss: 0.3454 - val_accuracy: 0.8533\n",
            "Epoch 65/500\n",
            "3/3 [==============================] - 0s 16ms/step - loss: 0.3692 - accuracy: 0.8586 - val_loss: 0.3476 - val_accuracy: 0.8267\n",
            "Epoch 66/500\n",
            "3/3 [==============================] - 0s 18ms/step - loss: 0.3763 - accuracy: 0.8646 - val_loss: 0.3488 - val_accuracy: 0.8400\n",
            "Epoch 67/500\n",
            "3/3 [==============================] - 0s 16ms/step - loss: 0.3739 - accuracy: 0.8542 - val_loss: 0.3502 - val_accuracy: 0.8533\n",
            "Epoch 68/500\n",
            "3/3 [==============================] - 0s 16ms/step - loss: 0.3578 - accuracy: 0.8512 - val_loss: 0.3491 - val_accuracy: 0.8533\n",
            "Epoch 69/500\n",
            "3/3 [==============================] - 0s 16ms/step - loss: 0.3732 - accuracy: 0.8512 - val_loss: 0.3473 - val_accuracy: 0.8533\n",
            "Epoch 70/500\n",
            "3/3 [==============================] - 0s 18ms/step - loss: 0.3752 - accuracy: 0.8542 - val_loss: 0.3425 - val_accuracy: 0.8533\n",
            "Epoch 71/500\n",
            "3/3 [==============================] - 0s 16ms/step - loss: 0.3793 - accuracy: 0.8497 - val_loss: 0.3404 - val_accuracy: 0.8267\n",
            "Epoch 72/500\n",
            "3/3 [==============================] - 0s 18ms/step - loss: 0.3594 - accuracy: 0.8527 - val_loss: 0.3393 - val_accuracy: 0.8133\n",
            "Epoch 73/500\n",
            "3/3 [==============================] - 0s 18ms/step - loss: 0.3723 - accuracy: 0.8497 - val_loss: 0.3411 - val_accuracy: 0.8133\n",
            "Epoch 74/500\n",
            "3/3 [==============================] - 0s 18ms/step - loss: 0.3765 - accuracy: 0.8497 - val_loss: 0.3456 - val_accuracy: 0.8267\n",
            "Epoch 75/500\n",
            "3/3 [==============================] - 0s 16ms/step - loss: 0.3712 - accuracy: 0.8497 - val_loss: 0.3464 - val_accuracy: 0.8267\n",
            "Epoch 76/500\n",
            "3/3 [==============================] - 0s 16ms/step - loss: 0.3672 - accuracy: 0.8527 - val_loss: 0.3465 - val_accuracy: 0.8533\n",
            "Epoch 77/500\n",
            "3/3 [==============================] - 0s 17ms/step - loss: 0.3649 - accuracy: 0.8452 - val_loss: 0.3427 - val_accuracy: 0.8267\n",
            "Epoch 78/500\n",
            "3/3 [==============================] - 0s 17ms/step - loss: 0.3684 - accuracy: 0.8557 - val_loss: 0.3409 - val_accuracy: 0.8267\n",
            "Epoch 79/500\n",
            "3/3 [==============================] - 0s 16ms/step - loss: 0.3752 - accuracy: 0.8497 - val_loss: 0.3392 - val_accuracy: 0.8267\n",
            "Epoch 80/500\n",
            "3/3 [==============================] - 0s 18ms/step - loss: 0.3630 - accuracy: 0.8571 - val_loss: 0.3379 - val_accuracy: 0.8400\n",
            "Epoch 81/500\n",
            "3/3 [==============================] - 0s 20ms/step - loss: 0.3622 - accuracy: 0.8512 - val_loss: 0.3370 - val_accuracy: 0.8400\n",
            "Epoch 82/500\n",
            "3/3 [==============================] - 0s 17ms/step - loss: 0.3804 - accuracy: 0.8512 - val_loss: 0.3388 - val_accuracy: 0.8400\n",
            "Epoch 83/500\n",
            "3/3 [==============================] - 0s 17ms/step - loss: 0.3549 - accuracy: 0.8735 - val_loss: 0.3412 - val_accuracy: 0.8400\n",
            "Epoch 84/500\n",
            "3/3 [==============================] - 0s 18ms/step - loss: 0.3656 - accuracy: 0.8542 - val_loss: 0.3398 - val_accuracy: 0.8400\n",
            "Epoch 85/500\n",
            "3/3 [==============================] - 0s 18ms/step - loss: 0.3749 - accuracy: 0.8542 - val_loss: 0.3459 - val_accuracy: 0.8267\n",
            "Epoch 86/500\n",
            "3/3 [==============================] - 0s 18ms/step - loss: 0.3864 - accuracy: 0.8452 - val_loss: 0.3488 - val_accuracy: 0.8267\n",
            "Epoch 87/500\n",
            "3/3 [==============================] - 0s 19ms/step - loss: 0.3682 - accuracy: 0.8467 - val_loss: 0.3489 - val_accuracy: 0.8400\n",
            "Epoch 88/500\n",
            "3/3 [==============================] - 0s 17ms/step - loss: 0.3591 - accuracy: 0.8542 - val_loss: 0.3448 - val_accuracy: 0.8533\n",
            "Epoch 89/500\n",
            "3/3 [==============================] - 0s 17ms/step - loss: 0.3541 - accuracy: 0.8571 - val_loss: 0.3417 - val_accuracy: 0.8533\n",
            "Epoch 90/500\n",
            "3/3 [==============================] - 0s 17ms/step - loss: 0.3738 - accuracy: 0.8571 - val_loss: 0.3410 - val_accuracy: 0.8533\n",
            "Epoch 91/500\n",
            "3/3 [==============================] - 0s 18ms/step - loss: 0.3814 - accuracy: 0.8467 - val_loss: 0.3423 - val_accuracy: 0.8267\n",
            "Epoch 92/500\n",
            "3/3 [==============================] - 0s 16ms/step - loss: 0.3650 - accuracy: 0.8586 - val_loss: 0.3433 - val_accuracy: 0.8267\n",
            "Epoch 93/500\n",
            "3/3 [==============================] - 0s 17ms/step - loss: 0.3647 - accuracy: 0.8571 - val_loss: 0.3451 - val_accuracy: 0.8400\n",
            "Epoch 94/500\n",
            "3/3 [==============================] - 0s 18ms/step - loss: 0.3643 - accuracy: 0.8571 - val_loss: 0.3429 - val_accuracy: 0.8400\n",
            "Epoch 95/500\n",
            "3/3 [==============================] - 0s 17ms/step - loss: 0.3699 - accuracy: 0.8527 - val_loss: 0.3398 - val_accuracy: 0.8400\n",
            "Epoch 96/500\n",
            "3/3 [==============================] - 0s 17ms/step - loss: 0.3646 - accuracy: 0.8497 - val_loss: 0.3378 - val_accuracy: 0.8400\n",
            "Epoch 97/500\n",
            "3/3 [==============================] - 0s 17ms/step - loss: 0.3679 - accuracy: 0.8527 - val_loss: 0.3375 - val_accuracy: 0.8400\n",
            "Epoch 98/500\n",
            "3/3 [==============================] - 0s 18ms/step - loss: 0.3454 - accuracy: 0.8586 - val_loss: 0.3410 - val_accuracy: 0.8400\n",
            "Epoch 99/500\n",
            "3/3 [==============================] - 0s 17ms/step - loss: 0.3569 - accuracy: 0.8601 - val_loss: 0.3463 - val_accuracy: 0.8400\n",
            "Epoch 100/500\n",
            "3/3 [==============================] - 0s 16ms/step - loss: 0.3616 - accuracy: 0.8467 - val_loss: 0.3440 - val_accuracy: 0.8400\n",
            "Epoch 101/500\n",
            "3/3 [==============================] - 0s 17ms/step - loss: 0.3516 - accuracy: 0.8512 - val_loss: 0.3421 - val_accuracy: 0.8533\n",
            "Epoch 102/500\n",
            "3/3 [==============================] - 0s 17ms/step - loss: 0.3626 - accuracy: 0.8512 - val_loss: 0.3392 - val_accuracy: 0.8533\n",
            "Epoch 103/500\n",
            "3/3 [==============================] - 0s 16ms/step - loss: 0.3568 - accuracy: 0.8512 - val_loss: 0.3354 - val_accuracy: 0.8533\n",
            "Epoch 104/500\n",
            "3/3 [==============================] - 0s 17ms/step - loss: 0.3607 - accuracy: 0.8586 - val_loss: 0.3356 - val_accuracy: 0.8533\n",
            "Epoch 105/500\n",
            "3/3 [==============================] - 0s 18ms/step - loss: 0.3540 - accuracy: 0.8482 - val_loss: 0.3362 - val_accuracy: 0.8400\n",
            "Epoch 106/500\n",
            "3/3 [==============================] - 0s 16ms/step - loss: 0.3495 - accuracy: 0.8780 - val_loss: 0.3418 - val_accuracy: 0.8400\n",
            "Epoch 107/500\n",
            "3/3 [==============================] - 0s 18ms/step - loss: 0.3609 - accuracy: 0.8571 - val_loss: 0.3490 - val_accuracy: 0.8267\n",
            "Epoch 108/500\n",
            "3/3 [==============================] - 0s 20ms/step - loss: 0.3608 - accuracy: 0.8542 - val_loss: 0.3462 - val_accuracy: 0.8267\n",
            "Epoch 109/500\n",
            "3/3 [==============================] - 0s 19ms/step - loss: 0.3492 - accuracy: 0.8542 - val_loss: 0.3429 - val_accuracy: 0.8400\n",
            "Epoch 110/500\n",
            "3/3 [==============================] - 0s 19ms/step - loss: 0.3861 - accuracy: 0.8542 - val_loss: 0.3463 - val_accuracy: 0.8400\n",
            "Epoch 111/500\n",
            "3/3 [==============================] - 0s 19ms/step - loss: 0.3602 - accuracy: 0.8542 - val_loss: 0.3472 - val_accuracy: 0.8400\n",
            "Epoch 112/500\n",
            "3/3 [==============================] - 0s 21ms/step - loss: 0.3583 - accuracy: 0.8571 - val_loss: 0.3479 - val_accuracy: 0.8533\n",
            "Epoch 113/500\n",
            "3/3 [==============================] - 0s 20ms/step - loss: 0.3544 - accuracy: 0.8527 - val_loss: 0.3492 - val_accuracy: 0.8533\n",
            "Epoch 114/500\n",
            "3/3 [==============================] - 0s 18ms/step - loss: 0.3789 - accuracy: 0.8571 - val_loss: 0.3485 - val_accuracy: 0.8400\n",
            "Epoch 115/500\n",
            "3/3 [==============================] - 0s 20ms/step - loss: 0.3522 - accuracy: 0.8512 - val_loss: 0.3487 - val_accuracy: 0.8400\n",
            "Epoch 116/500\n",
            "3/3 [==============================] - 0s 17ms/step - loss: 0.3534 - accuracy: 0.8542 - val_loss: 0.3502 - val_accuracy: 0.8267\n",
            "Epoch 117/500\n",
            "3/3 [==============================] - 0s 17ms/step - loss: 0.3661 - accuracy: 0.8423 - val_loss: 0.3512 - val_accuracy: 0.8133\n",
            "Epoch 118/500\n",
            "3/3 [==============================] - 0s 19ms/step - loss: 0.3592 - accuracy: 0.8512 - val_loss: 0.3560 - val_accuracy: 0.7867\n",
            "Epoch 119/500\n",
            "3/3 [==============================] - 0s 18ms/step - loss: 0.3646 - accuracy: 0.8482 - val_loss: 0.3560 - val_accuracy: 0.8000\n",
            "Epoch 120/500\n",
            "3/3 [==============================] - 0s 16ms/step - loss: 0.3522 - accuracy: 0.8690 - val_loss: 0.3526 - val_accuracy: 0.7867\n",
            "Epoch 121/500\n",
            "3/3 [==============================] - 0s 16ms/step - loss: 0.3430 - accuracy: 0.8542 - val_loss: 0.3497 - val_accuracy: 0.8267\n",
            "Epoch 122/500\n",
            "3/3 [==============================] - 0s 16ms/step - loss: 0.3693 - accuracy: 0.8512 - val_loss: 0.3509 - val_accuracy: 0.8400\n",
            "Epoch 123/500\n",
            "3/3 [==============================] - 0s 18ms/step - loss: 0.3625 - accuracy: 0.8676 - val_loss: 0.3460 - val_accuracy: 0.8400\n",
            "Epoch 124/500\n",
            "3/3 [==============================] - 0s 25ms/step - loss: 0.3521 - accuracy: 0.8646 - val_loss: 0.3404 - val_accuracy: 0.8267\n",
            "Epoch 125/500\n",
            "3/3 [==============================] - 0s 18ms/step - loss: 0.3727 - accuracy: 0.8586 - val_loss: 0.3368 - val_accuracy: 0.8400\n",
            "Epoch 126/500\n",
            "3/3 [==============================] - 0s 16ms/step - loss: 0.3617 - accuracy: 0.8646 - val_loss: 0.3373 - val_accuracy: 0.8400\n",
            "Epoch 127/500\n",
            "3/3 [==============================] - 0s 18ms/step - loss: 0.3569 - accuracy: 0.8616 - val_loss: 0.3381 - val_accuracy: 0.8533\n",
            "Epoch 128/500\n",
            "3/3 [==============================] - 0s 17ms/step - loss: 0.3484 - accuracy: 0.8512 - val_loss: 0.3387 - val_accuracy: 0.8267\n",
            "Epoch 129/500\n",
            "3/3 [==============================] - 0s 18ms/step - loss: 0.3424 - accuracy: 0.8571 - val_loss: 0.3412 - val_accuracy: 0.8267\n",
            "Epoch 130/500\n",
            "3/3 [==============================] - 0s 21ms/step - loss: 0.3579 - accuracy: 0.8616 - val_loss: 0.3484 - val_accuracy: 0.8133\n",
            "Epoch 131/500\n",
            "3/3 [==============================] - 0s 17ms/step - loss: 0.3563 - accuracy: 0.8557 - val_loss: 0.3531 - val_accuracy: 0.8000\n",
            "Epoch 132/500\n",
            "3/3 [==============================] - 0s 16ms/step - loss: 0.3577 - accuracy: 0.8512 - val_loss: 0.3491 - val_accuracy: 0.8000\n",
            "Epoch 133/500\n",
            "3/3 [==============================] - 0s 17ms/step - loss: 0.3623 - accuracy: 0.8527 - val_loss: 0.3506 - val_accuracy: 0.8133\n",
            "Epoch 134/500\n",
            "3/3 [==============================] - 0s 18ms/step - loss: 0.3554 - accuracy: 0.8616 - val_loss: 0.3441 - val_accuracy: 0.8400\n",
            "Epoch 135/500\n",
            "3/3 [==============================] - 0s 18ms/step - loss: 0.3567 - accuracy: 0.8527 - val_loss: 0.3427 - val_accuracy: 0.8533\n",
            "Epoch 136/500\n",
            "3/3 [==============================] - 0s 16ms/step - loss: 0.3502 - accuracy: 0.8631 - val_loss: 0.3391 - val_accuracy: 0.8400\n",
            "Epoch 137/500\n",
            "3/3 [==============================] - 0s 16ms/step - loss: 0.3588 - accuracy: 0.8497 - val_loss: 0.3365 - val_accuracy: 0.8533\n",
            "Epoch 138/500\n",
            "3/3 [==============================] - 0s 16ms/step - loss: 0.3559 - accuracy: 0.8571 - val_loss: 0.3378 - val_accuracy: 0.8533\n",
            "Epoch 139/500\n",
            "3/3 [==============================] - 0s 18ms/step - loss: 0.3725 - accuracy: 0.8586 - val_loss: 0.3416 - val_accuracy: 0.8400\n",
            "Epoch 140/500\n",
            "3/3 [==============================] - 0s 17ms/step - loss: 0.3568 - accuracy: 0.8601 - val_loss: 0.3448 - val_accuracy: 0.8400\n",
            "Epoch 141/500\n",
            "3/3 [==============================] - 0s 19ms/step - loss: 0.3536 - accuracy: 0.8661 - val_loss: 0.3483 - val_accuracy: 0.8533\n",
            "Epoch 142/500\n",
            "3/3 [==============================] - 0s 18ms/step - loss: 0.3547 - accuracy: 0.8542 - val_loss: 0.3567 - val_accuracy: 0.8267\n",
            "Epoch 143/500\n",
            "3/3 [==============================] - 0s 18ms/step - loss: 0.3561 - accuracy: 0.8467 - val_loss: 0.3621 - val_accuracy: 0.8267\n",
            "Epoch 144/500\n",
            "3/3 [==============================] - 0s 21ms/step - loss: 0.3713 - accuracy: 0.8631 - val_loss: 0.3599 - val_accuracy: 0.8133\n",
            "Epoch 145/500\n",
            "3/3 [==============================] - 0s 23ms/step - loss: 0.3503 - accuracy: 0.8631 - val_loss: 0.3542 - val_accuracy: 0.8267\n",
            "Epoch 146/500\n",
            "3/3 [==============================] - 0s 18ms/step - loss: 0.3526 - accuracy: 0.8690 - val_loss: 0.3492 - val_accuracy: 0.8267\n",
            "Epoch 147/500\n",
            "3/3 [==============================] - 0s 18ms/step - loss: 0.3455 - accuracy: 0.8616 - val_loss: 0.3442 - val_accuracy: 0.8133\n",
            "Epoch 148/500\n",
            "3/3 [==============================] - 0s 17ms/step - loss: 0.3442 - accuracy: 0.8631 - val_loss: 0.3433 - val_accuracy: 0.8133\n",
            "Epoch 149/500\n",
            "3/3 [==============================] - 0s 19ms/step - loss: 0.3623 - accuracy: 0.8512 - val_loss: 0.3436 - val_accuracy: 0.8267\n",
            "Epoch 150/500\n",
            "3/3 [==============================] - 0s 20ms/step - loss: 0.3606 - accuracy: 0.8646 - val_loss: 0.3484 - val_accuracy: 0.8267\n",
            "Epoch 151/500\n",
            "3/3 [==============================] - 0s 16ms/step - loss: 0.3469 - accuracy: 0.8676 - val_loss: 0.3494 - val_accuracy: 0.8267\n",
            "Epoch 152/500\n",
            "3/3 [==============================] - 0s 16ms/step - loss: 0.3630 - accuracy: 0.8542 - val_loss: 0.3508 - val_accuracy: 0.8267\n",
            "Epoch 153/500\n",
            "3/3 [==============================] - 0s 19ms/step - loss: 0.3476 - accuracy: 0.8586 - val_loss: 0.3520 - val_accuracy: 0.8133\n",
            "Epoch 154/500\n",
            "3/3 [==============================] - 0s 29ms/step - loss: 0.3496 - accuracy: 0.8527 - val_loss: 0.3535 - val_accuracy: 0.8000\n",
            "Epoch 155/500\n",
            "3/3 [==============================] - 0s 17ms/step - loss: 0.3431 - accuracy: 0.8676 - val_loss: 0.3576 - val_accuracy: 0.8133\n",
            "Epoch 156/500\n",
            "3/3 [==============================] - 0s 17ms/step - loss: 0.3460 - accuracy: 0.8557 - val_loss: 0.3543 - val_accuracy: 0.8267\n",
            "Epoch 157/500\n",
            "3/3 [==============================] - 0s 17ms/step - loss: 0.3459 - accuracy: 0.8735 - val_loss: 0.3470 - val_accuracy: 0.8400\n",
            "Epoch 158/500\n",
            "3/3 [==============================] - 0s 19ms/step - loss: 0.3508 - accuracy: 0.8676 - val_loss: 0.3449 - val_accuracy: 0.8667\n",
            "Epoch 159/500\n",
            "3/3 [==============================] - 0s 19ms/step - loss: 0.3519 - accuracy: 0.8482 - val_loss: 0.3468 - val_accuracy: 0.8533\n",
            "Epoch 160/500\n",
            "3/3 [==============================] - 0s 17ms/step - loss: 0.3327 - accuracy: 0.8586 - val_loss: 0.3502 - val_accuracy: 0.8400\n",
            "Epoch 161/500\n",
            "3/3 [==============================] - 0s 18ms/step - loss: 0.3438 - accuracy: 0.8690 - val_loss: 0.3547 - val_accuracy: 0.8133\n",
            "Epoch 162/500\n",
            "3/3 [==============================] - 0s 18ms/step - loss: 0.3620 - accuracy: 0.8586 - val_loss: 0.3609 - val_accuracy: 0.8000\n",
            "Epoch 163/500\n",
            "3/3 [==============================] - 0s 21ms/step - loss: 0.3609 - accuracy: 0.8571 - val_loss: 0.3741 - val_accuracy: 0.7867\n",
            "Epoch 00163: early stopping\n"
          ],
          "name": "stdout"
        }
      ]
    },
    {
      "cell_type": "markdown",
      "metadata": {
        "id": "xKw2hLXMwHt8"
      },
      "source": [
        "Testing & evaluating the mode"
      ]
    },
    {
      "cell_type": "code",
      "metadata": {
        "id": "EEm1EFfwrxRs"
      },
      "source": [
        ""
      ],
      "execution_count": null,
      "outputs": []
    },
    {
      "cell_type": "code",
      "metadata": {
        "colab": {
          "base_uri": "https://localhost:8080/"
        },
        "id": "vYdUY1mbubWn",
        "outputId": "518e845f-04fb-4896-c7b0-1c95feafd36c"
      },
      "source": [
        "y_pred = model.predict(x_test)\n",
        "y_pred"
      ],
      "execution_count": 133,
      "outputs": [
        {
          "output_type": "execute_result",
          "data": {
            "text/plain": [
              "array([[0.11096612],\n",
              "       [0.11069876],\n",
              "       [0.8566793 ],\n",
              "       [0.00656644],\n",
              "       [0.04553995],\n",
              "       [0.94043124],\n",
              "       [0.61247885],\n",
              "       [0.02257511],\n",
              "       [0.00622672],\n",
              "       [0.47863844],\n",
              "       [0.596556  ],\n",
              "       [0.9404985 ],\n",
              "       [0.8653641 ],\n",
              "       [0.67421466],\n",
              "       [0.92958486],\n",
              "       [0.05765083],\n",
              "       [0.900281  ],\n",
              "       [0.00760162],\n",
              "       [0.13017654],\n",
              "       [0.9061758 ],\n",
              "       [0.5357559 ],\n",
              "       [0.95320743],\n",
              "       [0.73355955],\n",
              "       [0.0082939 ],\n",
              "       [0.91844296],\n",
              "       [0.29382882],\n",
              "       [0.09312573],\n",
              "       [0.9177077 ],\n",
              "       [0.2544862 ],\n",
              "       [0.66925794],\n",
              "       [0.04553995],\n",
              "       [0.9662131 ],\n",
              "       [0.29741246],\n",
              "       [0.9843815 ],\n",
              "       [0.11751342],\n",
              "       [0.9633956 ],\n",
              "       [0.6331063 ],\n",
              "       [0.53288776],\n",
              "       [0.8620689 ],\n",
              "       [0.09883529],\n",
              "       [0.3812394 ],\n",
              "       [0.7235216 ],\n",
              "       [0.10193837],\n",
              "       [0.97270423],\n",
              "       [0.00507292],\n",
              "       [0.06046927],\n",
              "       [0.49861392],\n",
              "       [0.0077101 ],\n",
              "       [0.8740244 ],\n",
              "       [0.882228  ],\n",
              "       [0.90526396],\n",
              "       [0.76564795],\n",
              "       [0.8566793 ],\n",
              "       [0.8463903 ],\n",
              "       [0.9578937 ],\n",
              "       [0.833197  ],\n",
              "       [0.8342582 ],\n",
              "       [0.94434   ],\n",
              "       [0.10211256],\n",
              "       [0.09850004],\n",
              "       [0.5593985 ],\n",
              "       [0.041504  ],\n",
              "       [0.49890617],\n",
              "       [0.4790285 ],\n",
              "       [0.9578446 ],\n",
              "       [0.25608593],\n",
              "       [0.88214505],\n",
              "       [0.11096612],\n",
              "       [0.00255543],\n",
              "       [0.11069876],\n",
              "       [0.57427216],\n",
              "       [0.9843722 ],\n",
              "       [0.972124  ],\n",
              "       [0.01101777],\n",
              "       [0.936808  ],\n",
              "       [0.51518124],\n",
              "       [0.02946022],\n",
              "       [0.12158567],\n",
              "       [0.8638611 ],\n",
              "       [0.17244008],\n",
              "       [0.37803566],\n",
              "       [0.94465107],\n",
              "       [0.37757483]], dtype=float32)"
            ]
          },
          "metadata": {
            "tags": []
          },
          "execution_count": 133
        }
      ]
    },
    {
      "cell_type": "code",
      "metadata": {
        "colab": {
          "base_uri": "https://localhost:8080/"
        },
        "id": "o0621S8DwI91",
        "outputId": "f56e18f6-108c-42d4-fcde-74080b24200a"
      },
      "source": [
        "y_pred = model.predict_classes(x_test)\n",
        "y_pred"
      ],
      "execution_count": 134,
      "outputs": [
        {
          "output_type": "execute_result",
          "data": {
            "text/plain": [
              "array([[0],\n",
              "       [0],\n",
              "       [1],\n",
              "       [0],\n",
              "       [0],\n",
              "       [1],\n",
              "       [1],\n",
              "       [0],\n",
              "       [0],\n",
              "       [0],\n",
              "       [1],\n",
              "       [1],\n",
              "       [1],\n",
              "       [1],\n",
              "       [1],\n",
              "       [0],\n",
              "       [1],\n",
              "       [0],\n",
              "       [0],\n",
              "       [1],\n",
              "       [1],\n",
              "       [1],\n",
              "       [1],\n",
              "       [0],\n",
              "       [1],\n",
              "       [0],\n",
              "       [0],\n",
              "       [1],\n",
              "       [0],\n",
              "       [1],\n",
              "       [0],\n",
              "       [1],\n",
              "       [0],\n",
              "       [1],\n",
              "       [0],\n",
              "       [1],\n",
              "       [1],\n",
              "       [1],\n",
              "       [1],\n",
              "       [0],\n",
              "       [0],\n",
              "       [1],\n",
              "       [0],\n",
              "       [1],\n",
              "       [0],\n",
              "       [0],\n",
              "       [0],\n",
              "       [0],\n",
              "       [1],\n",
              "       [1],\n",
              "       [1],\n",
              "       [1],\n",
              "       [1],\n",
              "       [1],\n",
              "       [1],\n",
              "       [1],\n",
              "       [1],\n",
              "       [1],\n",
              "       [0],\n",
              "       [0],\n",
              "       [1],\n",
              "       [0],\n",
              "       [0],\n",
              "       [0],\n",
              "       [1],\n",
              "       [0],\n",
              "       [1],\n",
              "       [0],\n",
              "       [0],\n",
              "       [0],\n",
              "       [1],\n",
              "       [1],\n",
              "       [1],\n",
              "       [0],\n",
              "       [1],\n",
              "       [1],\n",
              "       [0],\n",
              "       [0],\n",
              "       [1],\n",
              "       [0],\n",
              "       [0],\n",
              "       [1],\n",
              "       [0]], dtype=int32)"
            ]
          },
          "metadata": {
            "tags": []
          },
          "execution_count": 134
        }
      ]
    },
    {
      "cell_type": "code",
      "metadata": {
        "colab": {
          "base_uri": "https://localhost:8080/"
        },
        "id": "kpzuJrkwwQig",
        "outputId": "0be01ffc-2a94-44bb-ab1c-7420470837c9"
      },
      "source": [
        "y_test"
      ],
      "execution_count": 135,
      "outputs": [
        {
          "output_type": "execute_result",
          "data": {
            "text/plain": [
              "608    0\n",
              "457    0\n",
              "290    0\n",
              "558    0\n",
              "168    0\n",
              "      ..\n",
              "33     0\n",
              "31     0\n",
              "810    0\n",
              "535    1\n",
              "616    0\n",
              "Name: Severity, Length: 83, dtype: int64"
            ]
          },
          "metadata": {
            "tags": []
          },
          "execution_count": 135
        }
      ]
    },
    {
      "cell_type": "code",
      "metadata": {
        "colab": {
          "base_uri": "https://localhost:8080/"
        },
        "id": "VtAc1b3_wS5L",
        "outputId": "c1123cbb-302e-4f7a-a53b-96df221022b1"
      },
      "source": [
        "model.evaluate(x_test, y_test)"
      ],
      "execution_count": 136,
      "outputs": [
        {
          "output_type": "stream",
          "text": [
            "3/3 [==============================] - 0s 2ms/step - loss: 0.4412 - accuracy: 0.8072\n"
          ],
          "name": "stdout"
        },
        {
          "output_type": "execute_result",
          "data": {
            "text/plain": [
              "[0.44122976064682007, 0.8072289228439331]"
            ]
          },
          "metadata": {
            "tags": []
          },
          "execution_count": 136
        }
      ]
    },
    {
      "cell_type": "code",
      "metadata": {
        "colab": {
          "base_uri": "https://localhost:8080/"
        },
        "id": "M2M70w-qwWEX",
        "outputId": "d4af9b8d-e89f-4b90-e3c1-8637ca9fd0ae"
      },
      "source": [
        "model.predict(x_test)[60]"
      ],
      "execution_count": 137,
      "outputs": [
        {
          "output_type": "execute_result",
          "data": {
            "text/plain": [
              "array([0.5593985], dtype=float32)"
            ]
          },
          "metadata": {
            "tags": []
          },
          "execution_count": 137
        }
      ]
    },
    {
      "cell_type": "code",
      "metadata": {
        "colab": {
          "base_uri": "https://localhost:8080/"
        },
        "id": "ammVkUF8wgrT",
        "outputId": "b9a0e6cb-4083-4ccc-9d5c-e3cea369a178"
      },
      "source": [
        "model.predict_classes(x_test)[60]"
      ],
      "execution_count": 138,
      "outputs": [
        {
          "output_type": "execute_result",
          "data": {
            "text/plain": [
              "array([1], dtype=int32)"
            ]
          },
          "metadata": {
            "tags": []
          },
          "execution_count": 138
        }
      ]
    },
    {
      "cell_type": "code",
      "metadata": {
        "colab": {
          "base_uri": "https://localhost:8080/"
        },
        "id": "_lLNZtBZwgvS",
        "outputId": "22ba7c76-06a1-4193-bc89-7a1aff22a173"
      },
      "source": [
        "model.predict(x_test)[20]"
      ],
      "execution_count": 139,
      "outputs": [
        {
          "output_type": "execute_result",
          "data": {
            "text/plain": [
              "array([0.5357559], dtype=float32)"
            ]
          },
          "metadata": {
            "tags": []
          },
          "execution_count": 139
        }
      ]
    },
    {
      "cell_type": "code",
      "metadata": {
        "colab": {
          "base_uri": "https://localhost:8080/"
        },
        "id": "9EqLzQB4wnYb",
        "outputId": "14ba1006-7c21-425d-cfb9-9a2e6e87e008"
      },
      "source": [
        "model.predict_classes(x_test)[20]"
      ],
      "execution_count": 140,
      "outputs": [
        {
          "output_type": "execute_result",
          "data": {
            "text/plain": [
              "array([1], dtype=int32)"
            ]
          },
          "metadata": {
            "tags": []
          },
          "execution_count": 140
        }
      ]
    },
    {
      "cell_type": "code",
      "metadata": {
        "colab": {
          "base_uri": "https://localhost:8080/"
        },
        "id": "dLzbDjH6wqI5",
        "outputId": "b224bfae-4122-4bce-aba0-94a554a50d7a"
      },
      "source": [
        "model.predict(sc.transform([[5, 36, 5, 3, 1]]))"
      ],
      "execution_count": 141,
      "outputs": [
        {
          "output_type": "execute_result",
          "data": {
            "text/plain": [
              "array([[0.99147344]], dtype=float32)"
            ]
          },
          "metadata": {
            "tags": []
          },
          "execution_count": 141
        }
      ]
    },
    {
      "cell_type": "code",
      "metadata": {
        "colab": {
          "base_uri": "https://localhost:8080/"
        },
        "id": "JRekVsdyqj_o",
        "outputId": "820892b4-65e6-4db3-92ac-58e58689d2fe"
      },
      "source": [
        "model.predict_classes(sc.transform([[5, 36, 5, 3, 1]]))"
      ],
      "execution_count": 142,
      "outputs": [
        {
          "output_type": "execute_result",
          "data": {
            "text/plain": [
              "array([[1]], dtype=int32)"
            ]
          },
          "metadata": {
            "tags": []
          },
          "execution_count": 142
        }
      ]
    },
    {
      "cell_type": "code",
      "metadata": {
        "colab": {
          "base_uri": "https://localhost:8080/",
          "height": 921
        },
        "id": "kClZ8vDdw6G6",
        "outputId": "362e8d7f-ec9a-4f20-e052-486ea8bccd6a"
      },
      "source": [
        "# summarize history for loss\n",
        "plt.plot(history.history['loss'])\n",
        "plt.plot(history.history['val_loss'])\n",
        "plt.title('model loss')\n",
        "plt.ylabel('loss')\n",
        "plt.xlabel('epoch')\n",
        "plt.legend(['train', 'test'], loc='upper left')\n",
        "plt.show()\n",
        "\n",
        "# # summarize history for accuracy\n",
        "plt.plot(history.history['accuracy'])\n",
        "plt.plot(history.history['val_accuracy'])\n",
        "plt.title('model accuracy')\n",
        "plt.ylabel('accuracy')\n",
        "plt.xlabel('epoch')\n",
        "plt.legend(['train', 'test'], loc='upper right')\n",
        "plt.show()"
      ],
      "execution_count": 143,
      "outputs": [
        {
          "output_type": "display_data",
          "data": {
            "image/png": "[encoded data removed]",
            "text/plain": [
              "<Figure size 504x504 with 1 Axes>"
            ]
          },
          "metadata": {
            "tags": []
          }
        },
        {
          "output_type": "display_data",
          "data": {
            "image/png": "[encoded data removed]",
            "text/plain": [
              "<Figure size 504x504 with 1 Axes>"
            ]
          },
          "metadata": {
            "tags": []
          }
        }
      ]
    },
    {
      "cell_type": "markdown",
      "metadata": {
        "id": "ezdz3ltFMdPW"
      },
      "source": [
        "Saving the model"
      ]
    },
    {
      "cell_type": "code",
      "metadata": {
        "id": "6QAnyG_qx_nn"
      },
      "source": [
        "model.save('model.h5')"
      ],
      "execution_count": 144,
      "outputs": []
    },
    {
      "cell_type": "code",
      "metadata": {
        "id": "Ta_HfY8KMhcP"
      },
      "source": [
        "import joblib"
      ],
      "execution_count": 145,
      "outputs": []
    },
    {
      "cell_type": "code",
      "metadata": {
        "colab": {
          "base_uri": "https://localhost:8080/"
        },
        "id": "euw5qkJ1MjRE",
        "outputId": "747f6bc1-9cd2-41b2-bd1e-41267369a9bb"
      },
      "source": [
        "joblib.dump(sc, 'scaler.pkl')"
      ],
      "execution_count": 146,
      "outputs": [
        {
          "output_type": "execute_result",
          "data": {
            "text/plain": [
              "['scaler.pkl']"
            ]
          },
          "metadata": {
            "tags": []
          },
          "execution_count": 146
        }
      ]
    },
    {
      "cell_type": "markdown",
      "metadata": {
        "id": "T0B1aFHbMpRC"
      },
      "source": [
        "Loding Model"
      ]
    },
    {
      "cell_type": "code",
      "metadata": {
        "id": "ZL2cpz9TMlf4"
      },
      "source": [
        "sc = joblib.load('scaler.pkl')"
      ],
      "execution_count": 147,
      "outputs": []
    },
    {
      "cell_type": "code",
      "metadata": {
        "colab": {
          "base_uri": "https://localhost:8080/"
        },
        "id": "PVbY8r0CMsX6",
        "outputId": "2ae26bd3-8c5d-4b7c-e0d6-27dc4213a9e4"
      },
      "source": [
        "from tensorflow.keras.models import load_model\n",
        "\n",
        "model = load_model('model.h5')\n",
        "model.predict_classes(sc.transform([[5, 36, 5, 3, 1]]))"
      ],
      "execution_count": 148,
      "outputs": [
        {
          "output_type": "execute_result",
          "data": {
            "text/plain": [
              "array([[1]], dtype=int32)"
            ]
          },
          "metadata": {
            "tags": []
          },
          "execution_count": 148
        }
      ]
    }
  ]
}